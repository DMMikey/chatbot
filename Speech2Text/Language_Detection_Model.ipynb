{
 "cells": [
  {
   "metadata": {},
   "cell_type": "markdown",
   "source": "#### YAPILMIŞTI DÜZENLENECEK (VAD ve FILTERDAN SONRA)",
   "id": "f2b50b7bdaf7efc"
  },
  {
   "metadata": {
    "ExecuteTime": {
     "end_time": "2024-05-04T17:47:35.312458Z",
     "start_time": "2024-05-04T17:47:25.097268Z"
    }
   },
   "cell_type": "code",
   "source": [
    "# Gerekli kütüphaneler\n",
    "import librosa\n",
    "import numpy as np\n",
    "import pandas as pd\n",
    "import torch\n",
    "import torch.nn as nn\n",
    "from torch.nn.functional import one_hot\n",
    "import matplotlib.pyplot as plt\n",
    "import os\n",
    "import warnings        \n",
    "warnings.filterwarnings(\"ignore\")"
   ],
   "id": "a641a63b3d77cb6a",
   "outputs": [],
   "execution_count": 2
  },
  {
   "metadata": {
    "ExecuteTime": {
     "end_time": "2024-05-04T17:47:37.921019Z",
     "start_time": "2024-05-04T17:47:37.902986Z"
    }
   },
   "cell_type": "code",
   "source": [
    "# Veri işleme fonksiyonu\n",
    "def read_and_sample(csv_path, fraction):\n",
    "    data = pd.read_csv(csv_path)\n",
    "    sample_data = data.sample(frac=fraction, random_state=42)\n",
    "    return sample_data"
   ],
   "id": "d4b9263625371b67",
   "outputs": [],
   "execution_count": 3
  },
  {
   "metadata": {
    "ExecuteTime": {
     "end_time": "2024-05-04T17:47:38.574630Z",
     "start_time": "2024-05-04T17:47:38.266308Z"
    }
   },
   "cell_type": "code",
   "source": [
    "# Verileri oku\n",
    "sample_fraction = 0.001\n",
    "\n",
    "train_data = read_and_sample(\"Datasets/STT_Datasets/train.csv\", sample_fraction)\n",
    "test_data = read_and_sample(\"Datasets/STT_Datasets/test.csv\", sample_fraction)"
   ],
   "id": "e7d7b5af6628f184",
   "outputs": [],
   "execution_count": 4
  },
  {
   "metadata": {
    "ExecuteTime": {
     "end_time": "2024-05-04T17:47:38.606206Z",
     "start_time": "2024-05-04T17:47:38.576634Z"
    }
   },
   "cell_type": "code",
   "source": [
    "# Verileri Kontrol et\n",
    "print(\"Train Data Sample:\")\n",
    "print(train_data.head())\n",
    "print(\"Test Data Sample:\")\n",
    "print(test_data.head())"
   ],
   "id": "2fe7bd1886b93024",
   "outputs": [
    {
     "name": "stdout",
     "output_type": "stream",
     "text": [
      "Train Data Sample:\n",
      "                                                    path  language\n",
      "10125  Datasets\\STT_Datasets\\zh-CN\\clips\\common_voice...         1\n",
      "20971  Datasets\\STT_Datasets\\zh-CN\\clips\\common_voice...         1\n",
      "4745   Datasets\\STT_Datasets\\tr\\clips\\common_voice_tr...         0\n",
      "18720  Datasets\\STT_Datasets\\zh-CN\\clips\\common_voice...         1\n",
      "13701  Datasets\\STT_Datasets\\tr\\clips\\common_voice_tr...         0\n",
      "Test Data Sample:\n",
      "                                                   path  language\n",
      "1652  Datasets\\STT_Datasets\\zh-CN\\clips\\common_voice...         1\n",
      "5303  Datasets\\STT_Datasets\\tr\\clips\\common_voice_tr...         0\n",
      "2987  Datasets\\STT_Datasets\\tr\\clips\\common_voice_tr...         0\n",
      "1545  Datasets\\STT_Datasets\\zh-CN\\clips\\common_voice...         1\n",
      "3767  Datasets\\STT_Datasets\\zh-CN\\clips\\common_voice...         1\n"
     ]
    }
   ],
   "execution_count": 5
  },
  {
   "metadata": {
    "ExecuteTime": {
     "end_time": "2024-05-04T17:47:38.824319Z",
     "start_time": "2024-05-04T17:47:38.814153Z"
    }
   },
   "cell_type": "code",
   "source": [
    "def preprocess_audio(audio_path):\n",
    "    audio, sr = librosa.load(audio_path)\n",
    "    audio = librosa.util.normalize(audio)\n",
    "    audio = librosa.feature.mfcc(audio)\n",
    "    tensor = torch.from_numpy(audio).T\n",
    "    tensor = tensor.unsqueeze(0)\n",
    "    tensor = tensor.float()\n",
    "    return tensor"
   ],
   "id": "51ca258661bc3440",
   "outputs": [],
   "execution_count": 6
  },
  {
   "metadata": {
    "ExecuteTime": {
     "end_time": "2024-05-04T17:47:44.794336Z",
     "start_time": "2024-05-04T17:47:38.975472Z"
    }
   },
   "cell_type": "code",
   "source": [
    "# train verileri yükle\n",
    "train_x_list, train_y_list = [], []\n",
    "for data in train_data.itertuples():\n",
    "    train_x_list.append(preprocess_audio(data.path))\n",
    "    tensor_y = torch.tensor(data.language)\n",
    "    train_y_list.append(one_hot(tensor_y, num_classes=2).unsqueeze(0).float())\n",
    "    "
   ],
   "id": "44ebf429f2b2a482",
   "outputs": [],
   "execution_count": 7
  },
  {
   "metadata": {
    "ExecuteTime": {
     "end_time": "2024-05-04T17:47:44.809481Z",
     "start_time": "2024-05-04T17:47:44.796324Z"
    }
   },
   "cell_type": "code",
   "source": [
    "# Parametreleri ayarla\n",
    "epochs = 100\n",
    "input_size = train_x_list[0].shape[2]\n",
    "hidden_size = 256\n",
    "layer_sizes = 2\n",
    "output_size = 2\n",
    "learning_rate=1e-4"
   ],
   "id": "138249653ecd457b",
   "outputs": [],
   "execution_count": 8
  },
  {
   "metadata": {
    "ExecuteTime": {
     "end_time": "2024-05-04T17:47:46.234882Z",
     "start_time": "2024-05-04T17:47:46.222713Z"
    }
   },
   "cell_type": "code",
   "source": [
    "class Net(nn.Module):\n",
    "    def __init__(self, input_size, hidden_size,layer_sizes, output_size):\n",
    "        super(Net, self).__init__()\n",
    "        \n",
    "        self.hidden_size = hidden_size\n",
    "        self.layer_sizes = layer_sizes\n",
    "        \n",
    "        self.lstm = nn.LSTM(input_size=input_size, hidden_size=hidden_size, num_layers=layer_sizes, batch_first=True)\n",
    "        self.fc = nn.Linear(hidden_size, output_size)\n",
    "        self.dropout = nn.Dropout(p=0.5)\n",
    "        \n",
    "    def forward(self, x):\n",
    "        h0 = torch.zeros(self.layer_sizes, x.size(0), self.hidden_size)\n",
    "        c0 = torch.zeros(self.layer_sizes, x.size(0), self.hidden_size)\n",
    "        \n",
    "        x = self.dropout(x)\n",
    "        output, (hn, cn) = self.lstm(x, (h0, c0))\n",
    "        output = self.fc(output[:,-1,:])\n",
    "        return output"
   ],
   "id": "3717d600ff4a1d56",
   "outputs": [],
   "execution_count": 9
  },
  {
   "metadata": {
    "ExecuteTime": {
     "end_time": "2024-05-04T17:47:47.077347Z",
     "start_time": "2024-05-04T17:47:47.063640Z"
    }
   },
   "cell_type": "code",
   "source": "model = Net(input_size, hidden_size, layer_sizes, output_size)",
   "id": "7dc937ac09baaae7",
   "outputs": [],
   "execution_count": 10
  },
  {
   "metadata": {
    "ExecuteTime": {
     "end_time": "2024-05-04T17:47:47.470178Z",
     "start_time": "2024-05-04T17:47:47.455287Z"
    }
   },
   "cell_type": "code",
   "source": [
    "criterion = nn.CrossEntropyLoss()\n",
    "optimizer = torch.optim.Adam(model.parameters(), lr=learning_rate, weight_decay=1e-5)"
   ],
   "id": "bdfe02b4d566ba21",
   "outputs": [],
   "execution_count": 11
  },
  {
   "metadata": {
    "ExecuteTime": {
     "end_time": "2024-05-04T17:48:14.082501Z",
     "start_time": "2024-05-04T17:47:47.811242Z"
    }
   },
   "cell_type": "code",
   "source": [
    "for epoch in range(epochs):\n",
    "    for audio, label in zip(train_x_list, train_y_list):\n",
    "        optimizer.zero_grad()\n",
    "        output = model(audio)\n",
    "        loss = criterion(output, label)\n",
    "        loss.backward()\n",
    "        optimizer.step()\n",
    "    print('Epoch [{}/{}], Loss: {:.4f}'.format(epoch + 1, epochs, loss.item()))"
   ],
   "id": "4cc489cd1effcb52",
   "outputs": [
    {
     "name": "stdout",
     "output_type": "stream",
     "text": [
      "Epoch [1/100], Loss: 0.7092\n",
      "Epoch [2/100], Loss: 0.7771\n"
     ]
    },
    {
     "ename": "KeyboardInterrupt",
     "evalue": "",
     "output_type": "error",
     "traceback": [
      "\u001B[1;31m---------------------------------------------------------------------------\u001B[0m",
      "\u001B[1;31mKeyboardInterrupt\u001B[0m                         Traceback (most recent call last)",
      "\u001B[1;32m<ipython-input-12-da77e59c5059>\u001B[0m in \u001B[0;36m<module>\u001B[1;34m\u001B[0m\n\u001B[0;32m      4\u001B[0m         \u001B[0moutput\u001B[0m \u001B[1;33m=\u001B[0m \u001B[0mmodel\u001B[0m\u001B[1;33m(\u001B[0m\u001B[0maudio\u001B[0m\u001B[1;33m)\u001B[0m\u001B[1;33m\u001B[0m\u001B[1;33m\u001B[0m\u001B[0m\n\u001B[0;32m      5\u001B[0m         \u001B[0mloss\u001B[0m \u001B[1;33m=\u001B[0m \u001B[0mcriterion\u001B[0m\u001B[1;33m(\u001B[0m\u001B[0moutput\u001B[0m\u001B[1;33m,\u001B[0m \u001B[0mlabel\u001B[0m\u001B[1;33m)\u001B[0m\u001B[1;33m\u001B[0m\u001B[1;33m\u001B[0m\u001B[0m\n\u001B[1;32m----> 6\u001B[1;33m         \u001B[0mloss\u001B[0m\u001B[1;33m.\u001B[0m\u001B[0mbackward\u001B[0m\u001B[1;33m(\u001B[0m\u001B[1;33m)\u001B[0m\u001B[1;33m\u001B[0m\u001B[1;33m\u001B[0m\u001B[0m\n\u001B[0m\u001B[0;32m      7\u001B[0m         \u001B[0moptimizer\u001B[0m\u001B[1;33m.\u001B[0m\u001B[0mstep\u001B[0m\u001B[1;33m(\u001B[0m\u001B[1;33m)\u001B[0m\u001B[1;33m\u001B[0m\u001B[1;33m\u001B[0m\u001B[0m\n\u001B[0;32m      8\u001B[0m     \u001B[0mprint\u001B[0m\u001B[1;33m(\u001B[0m\u001B[1;34m'Epoch [{}/{}], Loss: {:.4f}'\u001B[0m\u001B[1;33m.\u001B[0m\u001B[0mformat\u001B[0m\u001B[1;33m(\u001B[0m\u001B[0mepoch\u001B[0m \u001B[1;33m+\u001B[0m \u001B[1;36m1\u001B[0m\u001B[1;33m,\u001B[0m \u001B[0mepochs\u001B[0m\u001B[1;33m,\u001B[0m \u001B[0mloss\u001B[0m\u001B[1;33m.\u001B[0m\u001B[0mitem\u001B[0m\u001B[1;33m(\u001B[0m\u001B[1;33m)\u001B[0m\u001B[1;33m)\u001B[0m\u001B[1;33m)\u001B[0m\u001B[1;33m\u001B[0m\u001B[1;33m\u001B[0m\u001B[0m\n",
      "\u001B[1;32m~\\AppData\\Local\\Programs\\Python\\Python36\\lib\\site-packages\\torch\\_tensor.py\u001B[0m in \u001B[0;36mbackward\u001B[1;34m(self, gradient, retain_graph, create_graph, inputs)\u001B[0m\n\u001B[0;32m    305\u001B[0m                 \u001B[0mcreate_graph\u001B[0m\u001B[1;33m=\u001B[0m\u001B[0mcreate_graph\u001B[0m\u001B[1;33m,\u001B[0m\u001B[1;33m\u001B[0m\u001B[1;33m\u001B[0m\u001B[0m\n\u001B[0;32m    306\u001B[0m                 inputs=inputs)\n\u001B[1;32m--> 307\u001B[1;33m         \u001B[0mtorch\u001B[0m\u001B[1;33m.\u001B[0m\u001B[0mautograd\u001B[0m\u001B[1;33m.\u001B[0m\u001B[0mbackward\u001B[0m\u001B[1;33m(\u001B[0m\u001B[0mself\u001B[0m\u001B[1;33m,\u001B[0m \u001B[0mgradient\u001B[0m\u001B[1;33m,\u001B[0m \u001B[0mretain_graph\u001B[0m\u001B[1;33m,\u001B[0m \u001B[0mcreate_graph\u001B[0m\u001B[1;33m,\u001B[0m \u001B[0minputs\u001B[0m\u001B[1;33m=\u001B[0m\u001B[0minputs\u001B[0m\u001B[1;33m)\u001B[0m\u001B[1;33m\u001B[0m\u001B[1;33m\u001B[0m\u001B[0m\n\u001B[0m\u001B[0;32m    308\u001B[0m \u001B[1;33m\u001B[0m\u001B[0m\n\u001B[0;32m    309\u001B[0m     \u001B[1;32mdef\u001B[0m \u001B[0mregister_hook\u001B[0m\u001B[1;33m(\u001B[0m\u001B[0mself\u001B[0m\u001B[1;33m,\u001B[0m \u001B[0mhook\u001B[0m\u001B[1;33m)\u001B[0m\u001B[1;33m:\u001B[0m\u001B[1;33m\u001B[0m\u001B[1;33m\u001B[0m\u001B[0m\n",
      "\u001B[1;32m~\\AppData\\Local\\Programs\\Python\\Python36\\lib\\site-packages\\torch\\autograd\\__init__.py\u001B[0m in \u001B[0;36mbackward\u001B[1;34m(tensors, grad_tensors, retain_graph, create_graph, grad_variables, inputs)\u001B[0m\n\u001B[0;32m    154\u001B[0m     Variable._execution_engine.run_backward(\n\u001B[0;32m    155\u001B[0m         \u001B[0mtensors\u001B[0m\u001B[1;33m,\u001B[0m \u001B[0mgrad_tensors_\u001B[0m\u001B[1;33m,\u001B[0m \u001B[0mretain_graph\u001B[0m\u001B[1;33m,\u001B[0m \u001B[0mcreate_graph\u001B[0m\u001B[1;33m,\u001B[0m \u001B[0minputs\u001B[0m\u001B[1;33m,\u001B[0m\u001B[1;33m\u001B[0m\u001B[1;33m\u001B[0m\u001B[0m\n\u001B[1;32m--> 156\u001B[1;33m         allow_unreachable=True, accumulate_grad=True)  # allow_unreachable flag\n\u001B[0m\u001B[0;32m    157\u001B[0m \u001B[1;33m\u001B[0m\u001B[0m\n\u001B[0;32m    158\u001B[0m \u001B[1;33m\u001B[0m\u001B[0m\n",
      "\u001B[1;31mKeyboardInterrupt\u001B[0m: "
     ]
    }
   ],
   "execution_count": 12
  },
  {
   "metadata": {
    "ExecuteTime": {
     "end_time": "2024-05-04T17:48:14.084503Z",
     "start_time": "2024-05-04T17:48:14.084503Z"
    }
   },
   "cell_type": "code",
   "source": "audio = preprocess_audio(\"Datasets/STT_Datasets/zh-CN/clips/common_voice_zh-CN_18531543.mp3\")",
   "id": "1758ee2dd3ac0b84",
   "outputs": [],
   "execution_count": null
  },
  {
   "metadata": {},
   "cell_type": "code",
   "source": [
    "pred = model(audio)\n",
    "torch.argmax(pred, dim=1),pred"
   ],
   "id": "29331dd10657a299",
   "outputs": [],
   "execution_count": null
  },
  {
   "metadata": {},
   "cell_type": "code",
   "outputs": [],
   "execution_count": null,
   "source": "",
   "id": "d935b363da8d6fe8"
  }
 ],
 "metadata": {
  "kernelspec": {
   "display_name": "Python 3",
   "language": "python",
   "name": "python3"
  },
  "language_info": {
   "codemirror_mode": {
    "name": "ipython",
    "version": 2
   },
   "file_extension": ".py",
   "mimetype": "text/x-python",
   "name": "python",
   "nbconvert_exporter": "python",
   "pygments_lexer": "ipython2",
   "version": "2.7.6"
  }
 },
 "nbformat": 4,
 "nbformat_minor": 5
}
