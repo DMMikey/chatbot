{
 "cells": [
  {
   "metadata": {},
   "cell_type": "markdown",
   "source": "#### FILTER BİTTİKTEN SONRA BAŞLANACAK (Yazılıyor)",
   "id": "520e9c72f4f58c59"
  },
  {
   "metadata": {
    "ExecuteTime": {
     "end_time": "2024-05-01T08:02:23.874710Z",
     "start_time": "2024-05-01T08:02:23.820597Z"
    }
   },
   "cell_type": "code",
   "source": [
    "import librosa\n",
    "import numpy as np\n",
    "import torch\n",
    "import torch.nn as nn\n",
    "from torch import optim\n",
    "import warnings\n",
    "warnings.filterwarnings(\"ignore\")"
   ],
   "id": "19fbe073150d0100",
   "outputs": [],
   "execution_count": 21
  },
  {
   "metadata": {
    "ExecuteTime": {
     "end_time": "2024-05-01T08:05:54.438705Z",
     "start_time": "2024-05-01T08:05:54.250145Z"
    }
   },
   "cell_type": "code",
   "source": [
    "audio, sr = librosa.load(\"test.mp3\", sr=16000)\n",
    "audio = librosa.feature.mfcc(audio, sr=sr)\n",
    "audio = librosa.power_to_db(audio, ref=np.max)\n",
    "audio = torch.from_numpy(audio.T)\n",
    "audio = audio.unsqueeze(0)\n",
    "audio.shape"
   ],
   "id": "a6aa5777911dc6d4",
   "outputs": [
    {
     "data": {
      "text/plain": [
       "torch.Size([1, 125, 128])"
      ]
     },
     "execution_count": 42,
     "metadata": {},
     "output_type": "execute_result"
    }
   ],
   "execution_count": 42
  },
  {
   "metadata": {
    "ExecuteTime": {
     "end_time": "2024-05-01T08:05:55.486926Z",
     "start_time": "2024-05-01T08:05:55.463922Z"
    }
   },
   "cell_type": "code",
   "source": [
    "class RNN(nn.Module):\n",
    "    def __init__(self, input_size, hidden_size, output_size):\n",
    "        super(RNN, self).__init__()\n",
    "        self.hidden_size = hidden_size\n",
    "        \n",
    "        self.rnn = nn.RNN(input_size=input_size, hidden_size=hidden_size, batch_first=True)\n",
    "        self.fc = nn.Linear(hidden_size, output_size)\n",
    "        self.sigmoid = nn.Sigmoid()\n",
    "    def forward(self, x):\n",
    "        h0 = torch.zeros(1, x.size(0), self.hidden_size)\n",
    "        \n",
    "        out,hx = self.rnn(x, h0)\n",
    "        out = self.fc(out[:,-1,:])\n",
    "        out = self.sigmoid(out)\n",
    "        return out[0]"
   ],
   "id": "97fa74dc54e7482e",
   "outputs": [],
   "execution_count": 43
  },
  {
   "metadata": {
    "ExecuteTime": {
     "end_time": "2024-05-01T08:05:58.581839Z",
     "start_time": "2024-05-01T08:05:58.556833Z"
    }
   },
   "cell_type": "code",
   "source": "model = RNN(input_size=20,hidden_size=256,output_size=1)",
   "id": "98a5ed6f0aa4fc3e",
   "outputs": [],
   "execution_count": 44
  },
  {
   "metadata": {
    "ExecuteTime": {
     "end_time": "2024-05-01T08:05:59.387330Z",
     "start_time": "2024-05-01T08:05:59.371292Z"
    }
   },
   "cell_type": "code",
   "source": "model.train()",
   "id": "eaf69e1cc683585e",
   "outputs": [
    {
     "data": {
      "text/plain": [
       "RNN(\n",
       "  (rnn): RNN(128, 256, batch_first=True)\n",
       "  (fc): Linear(in_features=256, out_features=1, bias=True)\n",
       "  (sigmoid): Sigmoid()\n",
       ")"
      ]
     },
     "execution_count": 45,
     "metadata": {},
     "output_type": "execute_result"
    }
   ],
   "execution_count": 45
  },
  {
   "metadata": {
    "ExecuteTime": {
     "end_time": "2024-05-01T08:06:00.598431Z",
     "start_time": "2024-05-01T08:06:00.577272Z"
    }
   },
   "cell_type": "code",
   "source": [
    "criterion = nn.BCELoss()\n",
    "optimizer = optim.Adam(model.parameters(), lr=0.001, weight_decay=1e-5)"
   ],
   "id": "586dea3dcd3a44a5",
   "outputs": [],
   "execution_count": 46
  },
  {
   "metadata": {
    "ExecuteTime": {
     "end_time": "2024-05-01T08:06:01.510428Z",
     "start_time": "2024-05-01T08:06:01.491424Z"
    }
   },
   "cell_type": "code",
   "source": "label = torch.tensor([1], dtype=torch.float)",
   "id": "4937af939fe565d9",
   "outputs": [],
   "execution_count": 47
  },
  {
   "metadata": {
    "ExecuteTime": {
     "end_time": "2024-05-01T08:06:05.653365Z",
     "start_time": "2024-05-01T08:06:05.578543Z"
    }
   },
   "cell_type": "code",
   "source": [
    "noise,sr = librosa.load(\"Datasets/Filter_Datasets/noise_train/AirConditioner_1.wav\",sr=16000)\n",
    "noise = librosa.feature.mfcc(noise, sr=sr)\n",
    "noise = librosa.power_to_db(noise, ref=np.max)\n",
    "noise = torch.from_numpy(noise.T)\n",
    "noise = noise.unsqueeze(0)"
   ],
   "id": "4087e164e57789f",
   "outputs": [],
   "execution_count": 48
  },
  {
   "metadata": {
    "ExecuteTime": {
     "end_time": "2024-05-01T08:06:06.252668Z",
     "start_time": "2024-05-01T08:06:06.240667Z"
    }
   },
   "cell_type": "code",
   "source": "label_noise = torch.tensor([0], dtype=torch.float)",
   "id": "7e4d56bc56789bad",
   "outputs": [],
   "execution_count": 49
  },
  {
   "metadata": {
    "ExecuteTime": {
     "end_time": "2024-05-01T08:06:06.772488Z",
     "start_time": "2024-05-01T08:06:06.759488Z"
    }
   },
   "cell_type": "code",
   "source": [
    "data_List = []\n",
    "data_List.append([noise,label_noise])\n",
    "data_List.append([audio,label])"
   ],
   "id": "3b825e2c89046484",
   "outputs": [],
   "execution_count": 50
  },
  {
   "metadata": {
    "ExecuteTime": {
     "end_time": "2024-05-01T08:06:26.328204Z",
     "start_time": "2024-05-01T08:06:07.511391Z"
    }
   },
   "cell_type": "code",
   "source": [
    "for epoch in range(100):\n",
    "    for x,y in data_List:\n",
    "        optimizer.zero_grad()\n",
    "        pred = model(x)\n",
    "        loss = criterion(pred, y)\n",
    "        loss.backward()\n",
    "        optimizer.step()\n",
    "        if epoch % 10 == 0:\n",
    "            print(f\"Epoch: {epoch}, Loss: {loss.item():.4f}\")"
   ],
   "id": "8fbe68d1e169e51b",
   "outputs": [
    {
     "name": "stdout",
     "output_type": "stream",
     "text": [
      "Epoch: 0, Loss: 0.5960\n",
      "Epoch: 0, Loss: 2.1689\n",
      "Epoch: 10, Loss: 0.7897\n",
      "Epoch: 10, Loss: 0.6005\n",
      "Epoch: 20, Loss: 0.7348\n",
      "Epoch: 20, Loss: 0.6649\n",
      "Epoch: 30, Loss: 0.6814\n",
      "Epoch: 30, Loss: 0.7118\n",
      "Epoch: 40, Loss: 0.6960\n",
      "Epoch: 40, Loss: 0.6963\n",
      "Epoch: 50, Loss: 0.6985\n",
      "Epoch: 50, Loss: 0.6947\n",
      "Epoch: 60, Loss: 0.6959\n",
      "Epoch: 60, Loss: 0.6972\n",
      "Epoch: 70, Loss: 0.6964\n",
      "Epoch: 70, Loss: 0.6966\n",
      "Epoch: 80, Loss: 0.6966\n",
      "Epoch: 80, Loss: 0.6964\n",
      "Epoch: 90, Loss: 0.6965\n",
      "Epoch: 90, Loss: 0.6965\n"
     ]
    }
   ],
   "execution_count": 51
  },
  {
   "metadata": {
    "ExecuteTime": {
     "end_time": "2024-05-01T08:02:54.630557Z",
     "start_time": "2024-05-01T08:02:54.615546Z"
    }
   },
   "cell_type": "code",
   "source": "model(audio)",
   "id": "f4b2a43fdebc1c57",
   "outputs": [
    {
     "data": {
      "text/plain": [
       "tensor([0.9982], grad_fn=<SelectBackward0>)"
      ]
     },
     "execution_count": 32,
     "metadata": {},
     "output_type": "execute_result"
    }
   ],
   "execution_count": 32
  },
  {
   "metadata": {
    "ExecuteTime": {
     "end_time": "2024-05-01T08:02:55.738603Z",
     "start_time": "2024-05-01T08:02:55.713222Z"
    }
   },
   "cell_type": "code",
   "source": "model(noise)",
   "id": "f48533ddf4ff5d30",
   "outputs": [
    {
     "data": {
      "text/plain": [
       "tensor([0.0024], grad_fn=<SelectBackward0>)"
      ]
     },
     "execution_count": 33,
     "metadata": {},
     "output_type": "execute_result"
    }
   ],
   "execution_count": 33
  },
  {
   "metadata": {
    "ExecuteTime": {
     "end_time": "2024-05-01T08:02:56.998389Z",
     "start_time": "2024-05-01T08:02:56.838898Z"
    }
   },
   "cell_type": "code",
   "source": [
    "audio,sr = librosa.load(\"Datasets/Filter_Datasets/clean_train/p234_113.wav\",sr=16000)\n",
    "audio = librosa.feature.mfcc(audio, sr=sr)\n",
    "audio = librosa.power_to_db(audio, ref=np.max)\n",
    "audio = torch.from_numpy(audio.T)\n",
    "audio = audio.unsqueeze(0)"
   ],
   "id": "f6085aad438c6e5b",
   "outputs": [],
   "execution_count": 34
  },
  {
   "metadata": {
    "ExecuteTime": {
     "end_time": "2024-05-01T08:02:58.208092Z",
     "start_time": "2024-05-01T08:02:58.195087Z"
    }
   },
   "cell_type": "code",
   "source": "model(audio)",
   "id": "d8f9bc7c0696a228",
   "outputs": [
    {
     "data": {
      "text/plain": [
       "tensor([0.7774], grad_fn=<SelectBackward0>)"
      ]
     },
     "execution_count": 35,
     "metadata": {},
     "output_type": "execute_result"
    }
   ],
   "execution_count": 35
  },
  {
   "metadata": {
    "ExecuteTime": {
     "end_time": "2024-05-01T08:03:00.402404Z",
     "start_time": "2024-05-01T08:02:59.416376Z"
    }
   },
   "cell_type": "code",
   "source": [
    "audio,sr = librosa.load(\"Datasets/Filter_Datasets/noise_train/Washing_1.wav\",sr=16000)\n",
    "audio = librosa.feature.mfcc(audio, sr=sr)\n",
    "audio = librosa.power_to_db(audio, ref=np.max)\n",
    "audio = torch.from_numpy(audio.T)\n",
    "audio = audio.unsqueeze(0)"
   ],
   "id": "ff348612427f183a",
   "outputs": [],
   "execution_count": 36
  },
  {
   "metadata": {
    "ExecuteTime": {
     "end_time": "2024-05-01T08:03:01.414398Z",
     "start_time": "2024-05-01T08:03:01.129778Z"
    }
   },
   "cell_type": "code",
   "source": "model(audio)",
   "id": "8ef1be0b5a7617cc",
   "outputs": [
    {
     "data": {
      "text/plain": [
       "tensor([0.7279], grad_fn=<SelectBackward0>)"
      ]
     },
     "execution_count": 37,
     "metadata": {},
     "output_type": "execute_result"
    }
   ],
   "execution_count": 37
  },
  {
   "metadata": {
    "ExecuteTime": {
     "end_time": "2024-05-01T08:03:08.810100Z",
     "start_time": "2024-05-01T08:03:08.419129Z"
    }
   },
   "cell_type": "code",
   "source": [
    "audio,sr = librosa.load(\"Kayıt.wav\",sr=16000)\n",
    "audio = librosa.feature.mfcc(audio, sr=sr)\n",
    "audio = librosa.power_to_db(audio, ref=np.max)\n",
    "audio = torch.from_numpy(audio.T)\n",
    "audio = audio.unsqueeze(0)"
   ],
   "id": "9564ac8bd2c8fbc4",
   "outputs": [],
   "execution_count": 40
  },
  {
   "metadata": {
    "ExecuteTime": {
     "end_time": "2024-05-01T08:03:09.153389Z",
     "start_time": "2024-05-01T08:03:09.126548Z"
    }
   },
   "cell_type": "code",
   "source": "model(audio)",
   "id": "c013383c3c45407b",
   "outputs": [
    {
     "data": {
      "text/plain": [
       "tensor([0.6898], grad_fn=<SelectBackward0>)"
      ]
     },
     "execution_count": 41,
     "metadata": {},
     "output_type": "execute_result"
    }
   ],
   "execution_count": 41
  },
  {
   "metadata": {},
   "cell_type": "code",
   "outputs": [],
   "execution_count": null,
   "source": "",
   "id": "56b27ca179d0f510"
  }
 ],
 "metadata": {
  "kernelspec": {
   "display_name": "Python 3",
   "language": "python",
   "name": "python3"
  },
  "language_info": {
   "codemirror_mode": {
    "name": "ipython",
    "version": 2
   },
   "file_extension": ".py",
   "mimetype": "text/x-python",
   "name": "python",
   "nbconvert_exporter": "python",
   "pygments_lexer": "ipython2",
   "version": "2.7.6"
  }
 },
 "nbformat": 4,
 "nbformat_minor": 5
}
