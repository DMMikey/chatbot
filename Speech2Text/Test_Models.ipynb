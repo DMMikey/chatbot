{
 "cells": [
  {
   "metadata": {},
   "cell_type": "markdown",
   "source": "#### MODELLER YAZILDIKTAN SONRA TEST AMAÇLI KULLANILACAK (Yazılıyor)",
   "id": "c01f00e5026596cb"
  },
  {
   "metadata": {},
   "cell_type": "code",
   "outputs": [],
   "execution_count": null,
   "source": "",
   "id": "fe5de14fd8e0967c"
  }
 ],
 "metadata": {
  "kernelspec": {
   "display_name": "Python 3",
   "language": "python",
   "name": "python3"
  },
  "language_info": {
   "codemirror_mode": {
    "name": "ipython",
    "version": 2
   },
   "file_extension": ".py",
   "mimetype": "text/x-python",
   "name": "python",
   "nbconvert_exporter": "python",
   "pygments_lexer": "ipython2",
   "version": "2.7.6"
  }
 },
 "nbformat": 4,
 "nbformat_minor": 5
}
