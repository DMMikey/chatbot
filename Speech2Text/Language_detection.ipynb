{
 "cells": [
  {
   "metadata": {},
   "cell_type": "code",
   "source": [
    "# Gerekli kütüphaneler\n",
    "import librosa\n",
    "import pandas as pd\n",
    "import tensorflow as tf\n",
    "import matplotlib.pyplot as plt\n",
    "from keras.utils.vis_utils import plot_model\n",
    "from IPython.display import Image\n",
    "import os"
   ],
   "id": "a641a63b3d77cb6a",
   "outputs": [],
   "execution_count": null
  },
  {
   "metadata": {},
   "cell_type": "code",
   "source": [
    "# Verileri oku\n",
    "sample_size = 5000\n",
    "\n",
    "train_data = pd.read_csv(\"Datasets/train.csv\")[:,sample_size]\n",
    "val_data = pd.read_csv(\"Datasets/val.csv\")[:,sample_size]\n",
    "test_data = pd.read_csv(\"Datasets/test.csv\")[:,sample_size]"
   ],
   "id": "d4b9263625371b67",
   "outputs": [],
   "execution_count": null
  },
  {
   "metadata": {},
   "cell_type": "code",
   "source": [
    "# Etiket dönüşüm fonksiyonu\n",
    "def labels(label):\n",
    "    return tf.constant([1, 0] if label == 0 else [0, 1], dtype=tf.int32)"
   ],
   "id": "6b41c387f8faef0d",
   "outputs": [],
   "execution_count": null
  },
  {
   "metadata": {},
   "cell_type": "code",
   "source": [
    "# train verileri yükle\n",
    "train_x_list, train_y_list = [], []\n",
    "\n",
    "for index, row in train_data.iterrows():\n",
    "    audio, sample_rate = librosa.load(row['feature'])\n",
    "    mfccs = librosa.feature.mfcc(y=audio, sr=sample_rate)\n",
    "    tensor_x = tf.transpose(tf.convert_to_tensor(mfccs, dtype=tf.float32))\n",
    "    tensor_y = labels(row['labels'])\n",
    "    train_x_list.append(tensor_x)\n",
    "    train_y_list.append(tensor_y)"
   ],
   "id": "44ebf429f2b2a482",
   "outputs": [],
   "execution_count": null
  },
  {
   "metadata": {},
   "cell_type": "code",
   "source": [
    "# val verileri yükle\n",
    "val_x_list, val_y_list = [], []\n",
    "\n",
    "for index, row in val_data.iterrows():\n",
    "    audio, sample_rate = librosa.load(row['feature'])\n",
    "    mfccs = librosa.feature.mfcc(y=audio, sr=sample_rate)\n",
    "    tensor_x = tf.transpose(tf.convert_to_tensor(mfccs, dtype=tf.float32))\n",
    "    tensor_y = labels(row['labels'])\n",
    "    val_x_list.append(tensor_x)\n",
    "    val_y_list.append(tensor_y)"
   ],
   "id": "64f69a5d05ea521e",
   "outputs": [],
   "execution_count": null
  },
  {
   "metadata": {},
   "cell_type": "code",
   "source": [
    "# Parametreleri ayarla\n",
    "batch_size = 32\n",
    "epochs = 100\n",
    "input_size = 20\n",
    "hidden_size = 256\n",
    "output_size = 2\n",
    "learning_rate = 1e-4"
   ],
   "id": "138249653ecd457b",
   "outputs": [],
   "execution_count": null
  },
  {
   "metadata": {},
   "cell_type": "code",
   "source": [
    "# train_dataset oluştur\n",
    "def generator_train():\n",
    "    for features, labels in zip(train_x_list, train_y_list):\n",
    "        yield (features, labels)\n",
    "\n",
    "train_dataset = tf.data.Dataset.from_generator(\n",
    "    generator_train,\n",
    "    output_types=(tf.float32, tf.int16),\n",
    "    output_shapes=((None, input_size), (output_size))\n",
    ")\n",
    "\n",
    "train_dataset = train_dataset.padded_batch(batch_size=batch_size, padded_shapes=([None, input_size], [output_size]))"
   ],
   "id": "215a6c4daa098aab",
   "outputs": [],
   "execution_count": null
  },
  {
   "metadata": {},
   "cell_type": "code",
   "source": [
    "# val_dataset oluştur\n",
    "def generator_val():\n",
    "    for features, labels in zip(val_x_list, val_y_list):\n",
    "        yield (features, labels)\n",
    "        \n",
    "val_dataset = tf.data.Dataset.from_generator(\n",
    "    generator_val,\n",
    "    output_types=(tf.float32, tf.int32),\n",
    "    output_shapes=((None, input_size), (output_size))\n",
    ")\n",
    "\n",
    "val_dataset = val_dataset.padded_batch(batch_size=batch_size, padded_shapes=([None, input_size], [2]))       "
   ],
   "id": "cddc38398b04fc37",
   "outputs": [],
   "execution_count": null
  },
  {
   "metadata": {},
   "cell_type": "code",
   "source": [
    "# Modeli oluştur\n",
    "model = tf.keras.Sequential([\n",
    "    tf.keras.layers.Input(shape=(None, input_size), batch_size=None),\n",
    "    tf.keras.layers.LSTM(hidden_size,tf.keras.regularizers.L2(l2=0.01)),\n",
    "    tf.keras.layers.Dense(output_size, activation='linear',kernel_regularizer=tf.keras.regularizers.L2(l2=0.01))\n",
    "])\n",
    "\n",
    "model.compile(loss=tf.keras.losses.CategoricalCrossentropy(from_logits=True),\n",
    "              optimizer=tf.keras.optimizers.Adam(learning_rate),\n",
    "              metrics=['accuracy'])\n",
    "\n",
    "model.summary()"
   ],
   "id": "b2c87a96fe1269ea",
   "outputs": [],
   "execution_count": null
  },
  {
   "metadata": {},
   "cell_type": "code",
   "outputs": [],
   "execution_count": null,
   "source": [
    "# Model parametrelerini kaydet\n",
    "checkpoint_path = \"Checkpoint/cp-{epoch:04d}.ckpt\"\n",
    "checkpoint_dir = os.path.dirname(checkpoint_path)\n",
    "per_epoch = 5\n",
    "\n",
    "cp_callback = tf.keras.callbacks.ModelCheckpoint(\n",
    "    filepath=checkpoint_path, \n",
    "    verbose=1, \n",
    "    save_weights_only=True,\n",
    "    save_freq=per_epoch*batch_size)\n",
    "\n",
    "model.save_weights(checkpoint_path.format(epoch=0))"
   ],
   "id": "c3c3291fc130faa7"
  },
  {
   "metadata": {},
   "cell_type": "code",
   "source": [
    "# Modeli eğit\n",
    "history = model.fit(train_dataset, epochs=epochs, \n",
    "                    validation_data=val_dataset, \n",
    "                    callbacks=[cp_callback], \n",
    "                    verbose=0)"
   ],
   "id": "1bca49c08a24e342",
   "outputs": [],
   "execution_count": null
  },
  {
   "metadata": {},
   "cell_type": "code",
   "source": [
    "# Loss grafiği çizdir\n",
    "loss = history.history['loss']\n",
    "val_loss = history.history['val_loss']\n",
    "\n",
    "fig, ax = plt.subplots(1, 1)\n",
    "\n",
    "ax.plot(loss, label='Loss')\n",
    "ax.plot(val_loss, label='Validation Loss')\n",
    "ax.set_title('Loss')\n",
    "ax.set_xlabel('Epoch')\n",
    "ax.set_ylabel('Loss')\n",
    "ax.legend()\n",
    "\n",
    "plt.show()"
   ],
   "id": "97ba098f12862ca",
   "outputs": [],
   "execution_count": null
  },
  {
   "metadata": {},
   "cell_type": "code",
   "source": [
    "# Validation Accuracy grafiği çizdir\n",
    "val_acc = history.history['val_accuracy']\n",
    "\n",
    "ax.plot(val_acc, label='Validation Accuracy')\n",
    "ax.set_title('Validation Accuracy')\n",
    "ax.set_xlabel('Epoch')\n",
    "ax.set_ylabel('Accuracy')\n",
    "ax.legend()\n",
    "\n",
    "plt.show()"
   ],
   "id": "bd8b5860c20de1d3",
   "outputs": [],
   "execution_count": null
  },
  {
   "metadata": {},
   "cell_type": "code",
   "outputs": [],
   "execution_count": null,
   "source": [
    "# test verileri yükle\n",
    "val_x_list, val_y_list = [], []\n",
    "\n",
    "for index, row in test_data.iterrows():\n",
    "    audio, sample_rate = librosa.load(row['feature'])\n",
    "    mfccs = librosa.feature.mfcc(y=audio, sr=sample_rate)\n",
    "    tensor_x = tf.transpose(tf.convert_to_tensor(mfccs, dtype=tf.float32))\n",
    "    tensor_y = labels(row['labels'])\n",
    "    val_x_list.append(tensor_x)\n",
    "    val_y_list.append(tensor_y)"
   ],
   "id": "3ee84b67c934113d"
  },
  {
   "metadata": {},
   "cell_type": "code",
   "outputs": [],
   "execution_count": null,
   "source": [
    "# test_dataset oluştur\n",
    "def generator_test():\n",
    "    for features, labels in zip(train_x_list, train_y_list):\n",
    "        yield (features, labels)\n",
    "\n",
    "test_dataset = tf.data.Dataset.from_generator(\n",
    "    generator_test,\n",
    "    output_types=(tf.float32, tf.int16),\n",
    "    output_shapes=((None, input_size), (output_size))\n",
    ")\n",
    "\n",
    "test_dataset = test_dataset.padded_batch(batch_size=batch_size, padded_shapes=([None, input_size], [output_size]))"
   ],
   "id": "547280145bcdc421"
  },
  {
   "metadata": {},
   "cell_type": "code",
   "outputs": [],
   "execution_count": null,
   "source": [
    "loss, acc = model.evaluate(test_dataset, verbose=2)\n",
    "print(\"Untrained model, accuracy: {:5.2f}%\".format(100 * acc))"
   ],
   "id": "731b88e2c3074701"
  },
  {
   "metadata": {},
   "cell_type": "code",
   "outputs": [],
   "execution_count": null,
   "source": [
    "# Modeli çizdir\n",
    "plot_model(model, to_file='model.png', show_shapes=True, show_layer_names=True)\n",
    "Image(filename='model.png')"
   ],
   "id": "e6d9d2c424b30dc9"
  }
 ],
 "metadata": {
  "kernelspec": {
   "display_name": "Python 3",
   "language": "python",
   "name": "python3"
  },
  "language_info": {
   "codemirror_mode": {
    "name": "ipython",
    "version": 2
   },
   "file_extension": ".py",
   "mimetype": "text/x-python",
   "name": "python",
   "nbconvert_exporter": "python",
   "pygments_lexer": "ipython2",
   "version": "2.7.6"
  }
 },
 "nbformat": 4,
 "nbformat_minor": 5
}
