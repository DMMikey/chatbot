{
 "cells": [
  {
   "cell_type": "code",
   "id": "initial_id",
   "metadata": {
    "collapsed": true,
    "ExecuteTime": {
     "end_time": "2024-04-21T19:34:50.902302Z",
     "start_time": "2024-04-21T19:34:50.892859Z"
    }
   },
   "source": [
    "import torch\n",
    "import torch.nn as nn\n",
    "\n",
    "class RNN(nn.Module):\n",
    "    def __init__(self, input_size, hidden_size, layer_size, output_size, device):\n",
    "        super(RNN, self).__init__()\n",
    "        \n",
    "        self.device = device\n",
    "        self.hidden_size = hidden_size\n",
    "        self.layer_size = layer_size\n",
    "        \n",
    "        self.rnn = nn.RNN(input_size, hidden_size, layer_size, batch_first=True)\n",
    "        self.fc = nn.Linear(hidden_size, output_size)\n",
    "    def forward(self, x):\n",
    "        h0 = torch.zeros(self.layer_size, x.size(0), self.hidden_size).to(self.device)\n",
    "        out, hidden = self.rnn(x, h0)\n",
    "        out = self.fc(out[:, -1, :])\n",
    "        return out"
   ],
   "outputs": [],
   "execution_count": 2
  },
  {
   "metadata": {
    "ExecuteTime": {
     "end_time": "2024-04-21T19:34:51.480792Z",
     "start_time": "2024-04-21T19:34:51.436296Z"
    }
   },
   "cell_type": "code",
   "source": [
    "input_size = 201\n",
    "hidden_size = 10\n",
    "layer_size = 1\n",
    "output_size = 2\n",
    "device = \"cuda\" if torch.cuda.is_available() else \"cpu\"\n",
    "\n",
    "model = RNN(input_size, hidden_size, layer_size, output_size, device)"
   ],
   "id": "d30cfe19db393f3",
   "outputs": [],
   "execution_count": 3
  },
  {
   "metadata": {
    "jupyter": {
     "is_executing": true
    },
    "ExecuteTime": {
     "start_time": "2024-04-21T19:59:11.939976Z"
    }
   },
   "cell_type": "code",
   "source": [
    "import torchaudio\n",
    "import pandas as pd\n",
    "\n",
    "train_data = pd.read_csv('Datasets/train.csv').to_numpy()\n",
    "test_data = pd.read_csv('Datasets/test.csv').to_numpy()\n",
    "spectrogram_transform = torchaudio.transforms.Spectrogram()\n",
    "\n",
    "x_train = []\n",
    "x_test = []\n",
    "y_train = []\n",
    "y_test = []\n",
    "\n",
    "for train,test in zip(train_data,test_data):\n",
    "    waveform_train, sample_rate_train = torchaudio.load(train[0])\n",
    "    waveform_test, sample_rate_test = torchaudio.load(test[0])\n",
    "    \n",
    "    spectrogram_train = spectrogram_transform(waveform_train).to(device)\n",
    "    spectrogram_test = spectrogram_transform(waveform_test).to(device)\n",
    "    \n",
    "    x_train.append(spectrogram_train)\n",
    "    x_test.append(spectrogram_test)\n",
    "    y_train.append(train[1])\n",
    "    y_test.append(test[1])"
   ],
   "id": "4baa8873c450fcad",
   "outputs": [],
   "execution_count": null
  },
  {
   "metadata": {
    "jupyter": {
     "is_executing": true
    }
   },
   "cell_type": "code",
   "source": [
    "x_train = torch.stack(x_train)\n",
    "x_test = torch.stack(x_test)\n",
    "y_train = torch.tensor(y_train)\n",
    "y_test = torch.tensor(y_test)"
   ],
   "id": "9f5c3594ced24ea1",
   "outputs": [],
   "execution_count": null
  },
  {
   "metadata": {
    "ExecuteTime": {
     "end_time": "2024-04-21T19:53:19.226558Z",
     "start_time": "2024-04-21T19:53:19.220643Z"
    }
   },
   "cell_type": "code",
   "source": [
    "from torch.utils.data import TensorDataset, DataLoader\n",
    "\n",
    "batch_size = 16\n",
    "n_iters = 10000\n",
    "num_epochs = n_iters / (len(x_train) / batch_size)\n",
    "num_epochs = int(num_epochs)\n",
    "\n",
    "lr = 0.001\n",
    "error = nn.CrossEntropyLoss()\n",
    "optimizer = torch.optim.Adam(model.parameters(), lr=lr)\n",
    "\n",
    "loss_list = []\n",
    "iteration_list = []\n",
    "\n",
    "train_dataset = TensorDataset(x_train, y_train)\n",
    "test_dataset = TensorDataset(x_test, y_test)\n",
    "\n",
    "train_loader = DataLoader(train_dataset, batch_size=batch_size, shuffle=False)\n",
    "test_loader = DataLoader(test_dataset, batch_size=batch_size, shuffle=False)"
   ],
   "id": "71d3130b673da7ce",
   "outputs": [
    {
     "data": {
      "text/plain": [
       "(list, list)"
      ]
     },
     "execution_count": 13,
     "metadata": {},
     "output_type": "execute_result"
    }
   ],
   "execution_count": 13
  },
  {
   "metadata": {},
   "cell_type": "code",
   "source": [
    "for epoch in range(num_epochs):\n",
    "    for i, (audio, language) in enumerate(train_loader):\n",
    "        audio = audio.view(-1, audio.shape[2], audio.shape[1])\n",
    "        \n",
    "        optimizer.zero_grad()\n",
    "        output = model(audio)\n",
    "        loss = error(output, language)\n",
    "        \n",
    "        loss.backward()\n",
    "        optimizer.step()\n",
    "        \n",
    "        \n",
    "        if i % 100 == 0:\n",
    "            loss_list.append(loss.data)\n",
    "            iteration_list.append(i)\n",
    "            print('Iteration: {}  Loss: {}'.format(i, loss.data))"
   ],
   "id": "41502d64b99bada4",
   "outputs": [],
   "execution_count": null
  },
  {
   "metadata": {},
   "cell_type": "code",
   "source": [
    "import matplotlib.pyplot as plt\n",
    "\n",
    "plt.plot(iteration_list,loss_list)\n",
    "plt.xlabel(\"Number of iteration\")\n",
    "plt.ylabel(\"Loss\")\n",
    "plt.title(\"RNN: Loss vs Number of iteration\")\n",
    "plt.show()"
   ],
   "id": "ed8ffad53d46cdb6",
   "outputs": [],
   "execution_count": null
  },
  {
   "metadata": {},
   "cell_type": "code",
   "source": [
    "iteration_list = []\n",
    "accuracy_list = []\n",
    "total = 0\n",
    "correct = 0"
   ],
   "id": "fb58d6a1f5bd3c8b",
   "outputs": [],
   "execution_count": null
  },
  {
   "metadata": {},
   "cell_type": "code",
   "source": [
    "for i, (audio, language) in enumerate(test_loader):\n",
    "    audio = audio.view(-1, audio.shape[2], audio.shape[1])\n",
    "    \n",
    "    output = model(audio)\n",
    "    predicted = torch.argmax(output.data)\n",
    "    \n",
    "    total += 1\n",
    "    correct += 1 if predicted == language else 0\n",
    "    \n",
    "    if total % 100 == 0:\n",
    "        accuracy = 100 * correct / float(total)\n",
    "        iteration_list.append(i)\n",
    "        accuracy_list.append(accuracy)\n",
    "        print(\"Iteration:\",i,accuracy)"
   ],
   "id": "d7348c696d9969ee",
   "outputs": [],
   "execution_count": null
  },
  {
   "metadata": {},
   "cell_type": "code",
   "source": [
    "plt.plot(iteration_list,accuracy_list,color = \"red\")\n",
    "plt.xlabel(\"Number of iteration\")\n",
    "plt.ylabel(\"Accuracy\")\n",
    "plt.title(\"RNN: Accuracy vs Number of iteration\")\n",
    "plt.savefig('graph.png')\n",
    "plt.show()"
   ],
   "id": "94e1b37ca5638c93",
   "outputs": [],
   "execution_count": null
  }
 ],
 "metadata": {
  "kernelspec": {
   "display_name": "Python 3",
   "language": "python",
   "name": "python3"
  },
  "language_info": {
   "codemirror_mode": {
    "name": "ipython",
    "version": 2
   },
   "file_extension": ".py",
   "mimetype": "text/x-python",
   "name": "python",
   "nbconvert_exporter": "python",
   "pygments_lexer": "ipython2",
   "version": "2.7.6"
  }
 },
 "nbformat": 4,
 "nbformat_minor": 5
}
