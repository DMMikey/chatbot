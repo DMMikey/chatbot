{
 "cells": [
  {
   "cell_type": "code",
   "id": "initial_id",
   "metadata": {
    "collapsed": true,
    "ExecuteTime": {
     "end_time": "2024-04-22T01:16:27.593184Z",
     "start_time": "2024-04-22T01:16:22.282366Z"
    }
   },
   "source": [
    "import torch\n",
    "import torch.nn as nn\n",
    "\n",
    "class RNN(nn.Module):\n",
    "    def __init__(self, input_size, hidden_size, layer_size, output_size, device):\n",
    "        super(RNN, self).__init__()\n",
    "        \n",
    "        self.device = device\n",
    "        self.hidden_size = hidden_size\n",
    "        self.layer_size = layer_size\n",
    "        \n",
    "        self.rnn = nn.RNN(input_size, hidden_size, layer_size, batch_first=True, nonlinearity=\"relu\")\n",
    "        self.fc = nn.Linear(hidden_size, output_size)\n",
    "    def forward(self, x):\n",
    "        h0 = torch.zeros(self.layer_size, x.size(0), self.hidden_size).to(self.device)\n",
    "        out, hidden = self.rnn(x, h0)\n",
    "        out = self.fc(out[:, -1, :])\n",
    "        return out"
   ],
   "outputs": [],
   "execution_count": 1
  },
  {
   "metadata": {
    "ExecuteTime": {
     "end_time": "2024-04-22T01:16:27.632383Z",
     "start_time": "2024-04-22T01:16:27.595264Z"
    }
   },
   "cell_type": "code",
   "source": [
    "input_size = 13\n",
    "hidden_size = 200\n",
    "layer_size = 10\n",
    "output_size = 2\n",
    "device = \"cuda\" if torch.cuda.is_available() else \"cpu\"\n",
    "\n",
    "model = RNN(input_size, hidden_size, layer_size, output_size, device).to(device)"
   ],
   "id": "d30cfe19db393f3",
   "outputs": [],
   "execution_count": 2
  },
  {
   "metadata": {
    "ExecuteTime": {
     "end_time": "2024-04-22T01:16:31.878372Z",
     "start_time": "2024-04-22T01:16:27.633382Z"
    }
   },
   "cell_type": "code",
   "source": [
    "import torchaudio\n",
    "import pandas as pd\n",
    "from torch.utils.data import Dataset\n",
    "\n",
    "train_data = pd.read_csv('Datasets/train.csv').to_numpy()\n",
    "test_data = pd.read_csv('Datasets/test.csv').to_numpy()"
   ],
   "id": "4baa8873c450fcad",
   "outputs": [],
   "execution_count": 3
  },
  {
   "metadata": {
    "ExecuteTime": {
     "end_time": "2024-04-22T01:16:34.062832Z",
     "start_time": "2024-04-22T01:16:31.879366Z"
    }
   },
   "cell_type": "code",
   "source": [
    "num_epochs = 100\n",
    "lr = 0.001\n",
    "error = nn.CrossEntropyLoss()\n",
    "optimizer = torch.optim.Adam(model.parameters(), lr=lr)\n",
    "\n",
    "loss_list = []\n",
    "iteration_list = []"
   ],
   "id": "71d3130b673da7ce",
   "outputs": [],
   "execution_count": 4
  },
  {
   "metadata": {
    "jupyter": {
     "is_executing": true
    },
    "ExecuteTime": {
     "start_time": "2024-04-22T01:16:34.065972Z"
    }
   },
   "cell_type": "code",
   "source": [
    "for epoch in range(num_epochs):\n",
    "    for i, (audio, language) in enumerate(train_data,start=1):\n",
    "        waveform, sample_rate = torchaudio.load(audio)\n",
    "        mfcc_transform = torchaudio.transforms.MFCC(sample_rate=sample_rate)\n",
    "        mfcc = mfcc_transform(waveform)\n",
    "        mfcc = mfcc.reshape(mfcc.shape[0], mfcc.shape[2], mfcc.shape[1]).to(device)\n",
    "        language = torch.tensor([language]).to(device)\n",
    "        \n",
    "        optimizer.zero_grad()\n",
    "        output = model(mfcc)\n",
    "        loss = error(output, language)\n",
    "        \n",
    "        loss.backward()\n",
    "        optimizer.step()\n",
    "        \n",
    "        if i % 100 == 0:\n",
    "            loss_list.append(loss.data)\n",
    "            iteration_list.append(i)\n",
    "            print('Iteration: {}  Loss: {}'.format(i, loss.data))"
   ],
   "id": "41502d64b99bada4",
   "outputs": [],
   "execution_count": null
  },
  {
   "metadata": {
    "jupyter": {
     "is_executing": true
    }
   },
   "cell_type": "code",
   "source": [
    "import matplotlib.pyplot as plt\n",
    "\n",
    "plt.plot(iteration_list,loss_list)\n",
    "plt.xlabel(\"Number of iteration\")\n",
    "plt.ylabel(\"Loss\")\n",
    "plt.title(\"RNN: Loss vs Number of iteration\")\n",
    "plt.show()"
   ],
   "id": "ed8ffad53d46cdb6",
   "outputs": [],
   "execution_count": null
  },
  {
   "metadata": {
    "jupyter": {
     "is_executing": true
    }
   },
   "cell_type": "code",
   "source": [
    "iteration_list = []\n",
    "accuracy_list = []\n",
    "total = 0\n",
    "correct = 0"
   ],
   "id": "fb58d6a1f5bd3c8b",
   "outputs": [],
   "execution_count": null
  },
  {
   "metadata": {
    "jupyter": {
     "is_executing": true
    }
   },
   "cell_type": "code",
   "source": [
    "for i, (audio, language) in enumerate(test_data,start=1):\n",
    "    waveform, sample_rate = torchaudio.load(audio)\n",
    "    mfcc_transform = torchaudio.transforms.MFCC(sample_rate=sample_rate)\n",
    "    mfcc = mfcc_transform(waveform)\n",
    "    mfcc = mfcc.reshape(mfcc.shape[0], mfcc.shape[2], mfcc.shape[1]).to(device)\n",
    "    \n",
    "    output = model(mfcc)\n",
    "    predicted = torch.argmax(output.data)\n",
    "    \n",
    "    total += 1\n",
    "    correct += 1 if predicted == language else 0\n",
    "    \n",
    "    if total % 100 == 0:\n",
    "        accuracy = 100 * correct / float(total)\n",
    "        iteration_list.append(i)\n",
    "        accuracy_list.append(accuracy)\n",
    "        print(\"Iteration:\",i,accuracy)"
   ],
   "id": "d7348c696d9969ee",
   "outputs": [],
   "execution_count": null
  },
  {
   "metadata": {
    "jupyter": {
     "is_executing": true
    }
   },
   "cell_type": "code",
   "source": [
    "plt.plot(iteration_list, accuracy_list, color = \"red\")\n",
    "plt.xlabel(\"Number of iteration\")\n",
    "plt.ylabel(\"Accuracy\")\n",
    "plt.title(\"RNN: Accuracy vs Number of iteration\")\n",
    "plt.savefig('graph.png')\n",
    "plt.show()"
   ],
   "id": "94e1b37ca5638c93",
   "outputs": [],
   "execution_count": null
  },
  {
   "metadata": {},
   "cell_type": "code",
   "outputs": [],
   "execution_count": null,
   "source": "",
   "id": "49bbe235fa8c308e"
  }
 ],
 "metadata": {
  "kernelspec": {
   "display_name": "Python 3",
   "language": "python",
   "name": "python3"
  },
  "language_info": {
   "codemirror_mode": {
    "name": "ipython",
    "version": 2
   },
   "file_extension": ".py",
   "mimetype": "text/x-python",
   "name": "python",
   "nbconvert_exporter": "python",
   "pygments_lexer": "ipython2",
   "version": "2.7.6"
  }
 },
 "nbformat": 4,
 "nbformat_minor": 5
}
