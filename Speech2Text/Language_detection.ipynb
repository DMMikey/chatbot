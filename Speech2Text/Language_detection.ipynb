{
 "cells": [
  {
   "cell_type": "code",
   "execution_count": null,
   "id": "initial_id",
   "metadata": {
    "collapsed": true
   },
   "outputs": [],
   "source": [
    "import torch\n",
    "import torch.nn as nn\n",
    "from torch.autograd import Variable\n",
    "\n",
    "class RNN(nn.Module):\n",
    "    def __init__(self, input_size, hidden_size, layer_size, output_size, device):\n",
    "        super(RNN, self).__init__()\n",
    "        \n",
    "        self.devices = device\n",
    "        self.hidden_size = hidden_size\n",
    "        self.layer_size = layer_size\n",
    "        \n",
    "        self.rnn = nn.RNN(input_size, hidden_size, layer_size, batch_first=True)\n",
    "        self.fc = nn.Linear(hidden_size, output_size)\n",
    "    def forward(self, x):\n",
    "        h0 = Variable(torch.zeros(self.layer_size, x.size(0), self.hidden_size)).to(self.device)\n",
    "        output, hidden = self.rnn(x, h0)\n",
    "        output = self.fc(output[:, -1, :])\n",
    "        return output"
   ]
  },
  {
   "metadata": {},
   "cell_type": "code",
   "outputs": [],
   "execution_count": null,
   "source": [
    "input_size = 201\n",
    "hidden_size = 10\n",
    "layer_size = 1\n",
    "output_size = 2\n",
    "device = \"cuda\" if torch.cuda.is_available() else \"cpu\"\n",
    "\n",
    "model = RNN(input_size, hidden_size, layer_size, output_size, device)"
   ],
   "id": "d30cfe19db393f3"
  },
  {
   "metadata": {},
   "cell_type": "code",
   "outputs": [],
   "execution_count": null,
   "source": [
    "num_epoch = 10000\n",
    "lr = 0.001\n",
    "\n",
    "error = nn.CrossEntropyLoss()\n",
    "optimizer = torch.optim.Adam(model.parameters(), lr=lr)"
   ],
   "id": "f8d78f733c5df043"
  },
  {
   "metadata": {},
   "cell_type": "code",
   "outputs": [],
   "execution_count": null,
   "source": [
    "import torchaudio\n",
    "import pandas as pd\n",
    "\n",
    "train_data = pd.read_csv('Datasets/train.csv').to_numpy()\n",
    "test_data = pd.read_csv('Datasets/test.csv').to_numpy()\n",
    "spectrogram_transform = torchaudio.transforms.Spectrogram()\n",
    "\n",
    "loss_list = []\n",
    "iteration_list = []\n",
    "count = 0"
   ],
   "id": "4baa8873c450fcad"
  },
  {
   "metadata": {},
   "cell_type": "code",
   "outputs": [],
   "execution_count": null,
   "source": [
    "for epoch in range(num_epoch):\n",
    "    for x_train,y_train in train_data:\n",
    "        waveform,sample_rate=torchaudio.load(x_train)\n",
    "        spectrogram = spectrogram_transform(waveform)\n",
    "        spectrogram = spectrogram.reshape(spectrogram.shape[0],spectrogram.shape[2],spectrogram.shape[1])\n",
    "        lang = torch.tensor([y_train])\n",
    "        \n",
    "        optimizer.zero_grad()\n",
    "        output = model(spectrogram)\n",
    "        loss = error(output, lang)\n",
    "        \n",
    "        loss.backward()\n",
    "        optimizer.step()\n",
    "        \n",
    "        count += 1\n",
    "        \n",
    "        if count % 100 == 0:\n",
    "            loss_list.append(loss.data)\n",
    "            iteration_list.append(count)\n",
    "            print('Iteration: {}  Loss: {}'.format(count, loss.data[0]))"
   ],
   "id": "41502d64b99bada4"
  },
  {
   "metadata": {},
   "cell_type": "code",
   "outputs": [],
   "execution_count": null,
   "source": [
    "import matplotlib.pyplot as plt\n",
    "\n",
    "plt.plot(iteration_list,loss_list)\n",
    "plt.xlabel(\"Number of iteration\")\n",
    "plt.ylabel(\"Loss\")\n",
    "plt.title(\"RNN: Loss vs Number of iteration\")\n",
    "plt.show()"
   ],
   "id": "ed8ffad53d46cdb6"
  },
  {
   "metadata": {},
   "cell_type": "code",
   "outputs": [],
   "execution_count": null,
   "source": [
    "iteration_list = []\n",
    "accuracy_list = []\n",
    "total = 0\n",
    "correct = 0"
   ],
   "id": "fb58d6a1f5bd3c8b"
  },
  {
   "metadata": {},
   "cell_type": "code",
   "outputs": [],
   "execution_count": null,
   "source": [
    "for x_test,y_test in test_data:\n",
    "    waveform,sample_rate=torchaudio.load(x_test)\n",
    "    spectrogram = spectrogram_transform(waveform)\n",
    "    spectrogram = spectrogram.reshape(spectrogram.shape[0],spectrogram.shape[2],spectrogram.shape[1])\n",
    "    lang = torch.tensor([y_test])\n",
    "        \n",
    "    output = model(spectrogram)\n",
    "    predicted = torch.argmax(output.data)\n",
    "    \n",
    "    total += 1\n",
    "    correct += 1 if predicted == lang[0] else 0\n",
    "    \n",
    "    if total % 100 == 0:\n",
    "        accuracy = 100 * correct / float(total)\n",
    "        iteration_list.append(total)\n",
    "        accuracy_list.append(accuracy)\n",
    "        print(\"Iteration:\",total,accuracy)"
   ],
   "id": "d7348c696d9969ee"
  },
  {
   "metadata": {},
   "cell_type": "code",
   "outputs": [],
   "execution_count": null,
   "source": [
    "plt.plot(iteration_list,accuracy_list,color = \"red\")\n",
    "plt.xlabel(\"Number of iteration\")\n",
    "plt.ylabel(\"Accuracy\")\n",
    "plt.title(\"RNN: Accuracy vs Number of iteration\")\n",
    "plt.savefig('graph.png')\n",
    "plt.show()"
   ],
   "id": "94e1b37ca5638c93"
  }
 ],
 "metadata": {
  "kernelspec": {
   "display_name": "Python 3",
   "language": "python",
   "name": "python3"
  },
  "language_info": {
   "codemirror_mode": {
    "name": "ipython",
    "version": 2
   },
   "file_extension": ".py",
   "mimetype": "text/x-python",
   "name": "python",
   "nbconvert_exporter": "python",
   "pygments_lexer": "ipython2",
   "version": "2.7.6"
  }
 },
 "nbformat": 4,
 "nbformat_minor": 5
}
